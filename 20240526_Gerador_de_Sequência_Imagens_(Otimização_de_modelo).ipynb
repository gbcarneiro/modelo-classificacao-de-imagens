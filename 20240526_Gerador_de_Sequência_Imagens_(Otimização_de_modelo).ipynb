{
  "cells": [
    {
      "cell_type": "markdown",
      "metadata": {
        "id": "view-in-github",
        "colab_type": "text"
      },
      "source": [
        "<a href=\"https://colab.research.google.com/github/gbcarneiro/modelo-classificacao-de-imagens/blob/main/20240526_Gerador_de_Sequ%C3%AAncia_Imagens_(Otimiza%C3%A7%C3%A3o_de_modelo).ipynb\" target=\"_parent\"><img src=\"https://colab.research.google.com/assets/colab-badge.svg\" alt=\"Open In Colab\"/></a>"
      ]
    },
    {
      "cell_type": "markdown",
      "source": [
        "# Implementando técnicas de otimização de modelos\n",
        "\n",
        "O código abaixo implementa 3 técnicas de otimização de modelos, trabalhados em sala de aula. O modelo base foi o mesmo implementado na atividade ponderada da semana 4.\n",
        "\n",
        "## Técnicas Implementadas\n",
        "\n",
        "### 1. Data Augmentation\n",
        "Data Augmentation é uma técnica usada para aumentar a quantidade e a diversidade dos dados de treinamento ao aplicar transformações aleatórias, mas realistas, às imagens originais. Este processo ajuda o modelo a generalizar melhor e a ser mais robusto a variações nos dados. No código, usamos o `ImageDataGenerator` do Keras para aplicar as seguintes transformações:\n",
        "- **Rotação:** Girar a imagem em um ângulo aleatório.\n",
        "- **Zoom:** Ampliar ou reduzir a imagem.\n",
        "- **Deslocamento:** Mover a imagem horizontal e verticalmente.\n",
        "- **Espelhamento Horizontal:** Inverter a imagem horizontalmente.\n",
        "\n",
        "Estas transformações aumentam o conjunto de dados de treinamento, criando novas imagens a partir das originais, o que melhora a capacidade do modelo de aprender e generalizar.\n",
        "\n",
        "### 2. Dropout\n",
        "Dropout é uma técnica de regularização que ajuda a prevenir overfitting em redes neurais. Durante o treinamento, alguns neurônios são aleatoriamente \"desligados\" (ou seja, seu valor é ajustado para zero) em cada iteração. Isso força a rede a não depender de neurônios específicos, tornando-a mais robusta. No código, o Dropout é aplicado após as camadas de pooling e antes da camada densa final. As taxas de Dropout utilizadas são:\n",
        "- **0.25:** Após as camadas de pooling.\n",
        "- **0.5:** Antes da camada densa final.\n",
        "\n",
        "### 3. Early Stopping\n",
        "Early Stopping é uma técnica usada para interromper o treinamento do modelo assim que o desempenho no conjunto de validação para de melhorar. Isso ajuda a evitar o overfitting, garantindo que o modelo não continue aprendendo padrões específicos dos dados de treinamento que não generalizam bem para dados novos. No código, utilizamos a função `EarlyStopping` do Keras, monitorando a perda de validação (`val_loss`) e configurando uma paciência de 5 épocas. Se o desempenho não melhorar após 5 épocas consecutivas, o treinamento é interrompido e os melhores pesos do modelo são restaurados.\n",
        "\n",
        "Estas técnicas foram implementadas para melhorar a performance e a robustez do modelo de rede neural convolucional, garantindo que ele não apenas performe bem nos dados de treinamento, mas também generalize adequadamente para novos dados.\n"
      ],
      "metadata": {
        "id": "b0i-cPDoDfgn"
      }
    },
    {
      "cell_type": "code",
      "execution_count": 2,
      "metadata": {
        "colab": {
          "base_uri": "https://localhost:8080/"
        },
        "id": "D8HSqARENnRj",
        "outputId": "36f693c8-3caf-4115-fb89-595c4bad7f84"
      },
      "outputs": [
        {
          "output_type": "stream",
          "name": "stdout",
          "text": [
            "Mounted at /content/drive\n",
            "Shape das imagens de entrada no lote: (5, 100, 100, 3)\n",
            "Shape das categorias no lote: (5, 14)\n"
          ]
        }
      ],
      "source": [
        "from keras.utils import to_categorical, Sequence\n",
        "from glob import glob\n",
        "import cv2  # Importando cv2 para redimensionamento\n",
        "from google.colab import drive\n",
        "import numpy as np\n",
        "from keras.preprocessing.image import ImageDataGenerator\n",
        "from keras.callbacks import EarlyStopping\n",
        "\n",
        "import tensorflow as tf\n",
        "tf.config.run_functions_eagerly(True)\n",
        "\n",
        "# Monta o Google Drive para acessar as imagens\n",
        "drive.mount('/content/drive')\n",
        "\n",
        "# Função para importar e pré-processar imagens\n",
        "def importa_imagem(caminho):\n",
        "    # Lê a imagem, redimensiona para 100x100, normaliza (dividindo por 255)\n",
        "    imagem = cv2.imread(caminho)\n",
        "    imagem = cv2.resize(imagem, (100, 100))  # Redimensiona a imagem\n",
        "    categoria = int(caminho.split('/')[-2]) # Assume que o nome da pasta é a categoria\n",
        "    return (imagem / 255.0, to_categorical(categoria, 14)) # 14 categorias possíveis\n",
        "\n",
        "# Data Augmentation\n",
        "datagen = ImageDataGenerator(\n",
        "    rotation_range=10,\n",
        "    zoom_range=0.1,\n",
        "    width_shift_range=0.1,\n",
        "    height_shift_range=0.1,\n",
        "    horizontal_flip=True\n",
        ")\n",
        "\n",
        "# Classe que gera lotes de dados para treinamento\n",
        "class GeradorSequencias(Sequence):\n",
        "    def __init__(self, entradas, batch_size):\n",
        "        self.entradas = entradas\n",
        "        self.batch_size = batch_size\n",
        "\n",
        "    def __len__(self):\n",
        "        # Retorna o número de lotes por época\n",
        "        return np.ceil(len(self.entradas) / self.batch_size).astype(int)\n",
        "\n",
        "    def __getitem__(self, id):\n",
        "        # Gera um lote de dados\n",
        "        esquerda = id * self.batch_size\n",
        "        direita = min(esquerda + self.batch_size, len(self.entradas))\n",
        "        batch_entradas = self.entradas[esquerda:direita]\n",
        "\n",
        "        # Carrega e processa as imagens e categorias\n",
        "        x = np.array([importa_imagem(caminho)[0] for caminho in batch_entradas])\n",
        "        y = np.array([importa_imagem(caminho)[1] for caminho in batch_entradas])\n",
        "\n",
        "        # Aplica data augmentation\n",
        "        for i in range(len(x)):\n",
        "            x[i] = datagen.random_transform(x[i])\n",
        "\n",
        "        return x, y\n",
        "\n",
        "# Caminhos para as imagens\n",
        "caminhos = glob('/content/drive/MyDrive/imagens/*/*.jpg')\n",
        "np.random.shuffle(caminhos)\n",
        "\n",
        "sequencia = GeradorSequencias(caminhos, 5)\n",
        "\n",
        "x_lote, y_lote = sequencia.__getitem__(0)\n",
        "print(\"Shape das imagens de entrada no lote:\", x_lote.shape)\n",
        "print(\"Shape das categorias no lote:\", y_lote.shape)"
      ]
    },
    {
      "cell_type": "code",
      "execution_count": 4,
      "metadata": {
        "id": "ohuYCjWmUnIs"
      },
      "outputs": [],
      "source": [
        "\n",
        "from keras.models import Sequential\n",
        "from keras.layers import Conv2D, MaxPooling2D, Flatten, Dense, Dropout\n",
        "from keras.optimizers import Adam\n",
        "\n",
        "# Definição do modelo de rede neural convolucional\n",
        "def criar_modelo():\n",
        "    model = Sequential([\n",
        "        Conv2D(32, (3, 3), activation='relu', input_shape=(100, 100, 3)),  # Supondo imagens de 100x100\n",
        "        MaxPooling2D(2, 2),\n",
        "        Dropout(0.25),  # Dropout adicional\n",
        "        Conv2D(64, (3, 3), activation='relu'),\n",
        "        MaxPooling2D(2, 2),\n",
        "        Dropout(0.25),  # Dropout adicional\n",
        "        Conv2D(128, (3, 3), activation='relu'),\n",
        "        MaxPooling2D(2, 2),\n",
        "        Flatten(),\n",
        "        Dense(512, activation='relu'),\n",
        "        Dropout(0.5),\n",
        "        Dense(14, activation='softmax')  # 14 categorias\n",
        "    ])\n",
        "    return model\n"
      ]
    },
    {
      "cell_type": "code",
      "execution_count": 5,
      "metadata": {
        "colab": {
          "base_uri": "https://localhost:8080/"
        },
        "id": "Nw7Im-ovUZzg",
        "outputId": "ef9f67e8-7019-41bf-f076-89e156164015"
      },
      "outputs": [
        {
          "metadata": {
            "tags": null
          },
          "name": "stderr",
          "output_type": "stream",
          "text": [
            "WARNING:absl:`lr` is deprecated in Keras optimizer, please use `learning_rate` or use the legacy optimizer, e.g.,tf.keras.optimizers.legacy.Adam.\n"
          ]
        },
        {
          "metadata": {
            "tags": null
          },
          "name": "stdout",
          "output_type": "stream",
          "text": [
            "Model: \"sequential\"\n",
            "_________________________________________________________________\n",
            " Layer (type)                Output Shape              Param #   \n",
            "=================================================================\n",
            " conv2d (Conv2D)             (None, 98, 98, 32)        896       \n",
            "                                                                 \n",
            " max_pooling2d (MaxPooling2  (None, 49, 49, 32)        0         \n",
            " D)                                                              \n",
            "                                                                 \n",
            " dropout (Dropout)           (None, 49, 49, 32)        0         \n",
            "                                                                 \n",
            " conv2d_1 (Conv2D)           (None, 47, 47, 64)        18496     \n",
            "                                                                 \n",
            " max_pooling2d_1 (MaxPoolin  (None, 23, 23, 64)        0         \n",
            " g2D)                                                            \n",
            "                                                                 \n",
            " dropout_1 (Dropout)         (None, 23, 23, 64)        0         \n",
            "                                                                 \n",
            " conv2d_2 (Conv2D)           (None, 21, 21, 128)       73856     \n",
            "                                                                 \n",
            " max_pooling2d_2 (MaxPoolin  (None, 10, 10, 128)       0         \n",
            " g2D)                                                            \n",
            "                                                                 \n",
            " flatten (Flatten)           (None, 12800)             0         \n",
            "                                                                 \n",
            " dense (Dense)               (None, 512)               6554112   \n",
            "                                                                 \n",
            " dropout_2 (Dropout)         (None, 512)               0         \n",
            "                                                                 \n",
            " dense_1 (Dense)             (None, 14)                7182      \n",
            "                                                                 \n",
            "=================================================================\n",
            "Total params: 6654542 (25.39 MB)\n",
            "Trainable params: 6654542 (25.39 MB)\n",
            "Non-trainable params: 0 (0.00 Byte)\n",
            "_________________________________________________________________\n"
          ]
        },
        {
          "metadata": {
            "tags": null
          },
          "name": "stderr",
          "output_type": "stream",
          "text": [
            "/usr/local/lib/python3.10/dist-packages/tensorflow/python/data/ops/structured_function.py:258: UserWarning: Even though the `tf.config.experimental_run_functions_eagerly` option is set, this option does not apply to tf.data functions. To force eager execution of tf.data functions, please use `tf.data.experimental.enable_debug_mode()`.\n",
            "  warnings.warn(\n"
          ]
        },
        {
          "metadata": {
            "tags": null
          },
          "name": "stdout",
          "output_type": "stream",
          "text": [
            "Epoch 1/50\n",
            "280/280 [==============================] - ETA: 0s - loss: 2.2326 - accuracy: 0.2136"
          ]
        },
        {
          "metadata": {
            "tags": null
          },
          "name": "stderr",
          "output_type": "stream",
          "text": [
            "WARNING:tensorflow:Early stopping conditioned on metric `val_loss` which is not available. Available metrics are: loss,accuracy\n"
          ]
        },
        {
          "metadata": {
            "tags": null
          },
          "name": "stdout",
          "output_type": "stream",
          "text": [
            "280/280 [==============================] - 390s 1s/step - loss: 2.2326 - accuracy: 0.2136\n",
            "Epoch 2/50\n",
            "280/280 [==============================] - ETA: 0s - loss: 1.1987 - accuracy: 0.5714"
          ]
        },
        {
          "metadata": {
            "tags": null
          },
          "name": "stderr",
          "output_type": "stream",
          "text": [
            "WARNING:tensorflow:Early stopping conditioned on metric `val_loss` which is not available. Available metrics are: loss,accuracy\n"
          ]
        },
        {
          "metadata": {
            "tags": null
          },
          "name": "stdout",
          "output_type": "stream",
          "text": [
            "280/280 [==============================] - 123s 438ms/step - loss: 1.1987 - accuracy: 0.5714\n",
            "Epoch 3/50\n",
            "280/280 [==============================] - ETA: 0s - loss: 0.7398 - accuracy: 0.7393"
          ]
        },
        {
          "metadata": {
            "tags": null
          },
          "name": "stderr",
          "output_type": "stream",
          "text": [
            "WARNING:tensorflow:Early stopping conditioned on metric `val_loss` which is not available. Available metrics are: loss,accuracy\n"
          ]
        },
        {
          "metadata": {
            "tags": null
          },
          "name": "stdout",
          "output_type": "stream",
          "text": [
            "280/280 [==============================] - 111s 395ms/step - loss: 0.7398 - accuracy: 0.7393\n",
            "Epoch 4/50\n",
            "280/280 [==============================] - ETA: 0s - loss: 0.5413 - accuracy: 0.8114"
          ]
        },
        {
          "metadata": {
            "tags": null
          },
          "name": "stderr",
          "output_type": "stream",
          "text": [
            "WARNING:tensorflow:Early stopping conditioned on metric `val_loss` which is not available. Available metrics are: loss,accuracy\n"
          ]
        },
        {
          "metadata": {
            "tags": null
          },
          "name": "stdout",
          "output_type": "stream",
          "text": [
            "280/280 [==============================] - 110s 392ms/step - loss: 0.5413 - accuracy: 0.8114\n",
            "Epoch 5/50\n",
            "280/280 [==============================] - ETA: 0s - loss: 0.4581 - accuracy: 0.8393"
          ]
        },
        {
          "metadata": {
            "tags": null
          },
          "name": "stderr",
          "output_type": "stream",
          "text": [
            "WARNING:tensorflow:Early stopping conditioned on metric `val_loss` which is not available. Available metrics are: loss,accuracy\n"
          ]
        },
        {
          "metadata": {
            "tags": null
          },
          "name": "stdout",
          "output_type": "stream",
          "text": [
            "280/280 [==============================] - 137s 488ms/step - loss: 0.4581 - accuracy: 0.8393\n",
            "Epoch 6/50\n",
            "280/280 [==============================] - ETA: 0s - loss: 0.3875 - accuracy: 0.8636"
          ]
        },
        {
          "metadata": {
            "tags": null
          },
          "name": "stderr",
          "output_type": "stream",
          "text": [
            "WARNING:tensorflow:Early stopping conditioned on metric `val_loss` which is not available. Available metrics are: loss,accuracy\n"
          ]
        },
        {
          "metadata": {
            "tags": null
          },
          "name": "stdout",
          "output_type": "stream",
          "text": [
            "280/280 [==============================] - 121s 430ms/step - loss: 0.3875 - accuracy: 0.8636\n",
            "Epoch 7/50\n",
            "280/280 [==============================] - ETA: 0s - loss: 0.3658 - accuracy: 0.8764"
          ]
        },
        {
          "metadata": {
            "tags": null
          },
          "name": "stderr",
          "output_type": "stream",
          "text": [
            "WARNING:tensorflow:Early stopping conditioned on metric `val_loss` which is not available. Available metrics are: loss,accuracy\n"
          ]
        },
        {
          "metadata": {
            "tags": null
          },
          "name": "stdout",
          "output_type": "stream",
          "text": [
            "280/280 [==============================] - 127s 453ms/step - loss: 0.3658 - accuracy: 0.8764\n",
            "Epoch 8/50\n",
            "280/280 [==============================] - ETA: 0s - loss: 0.3230 - accuracy: 0.8886"
          ]
        },
        {
          "metadata": {
            "tags": null
          },
          "name": "stderr",
          "output_type": "stream",
          "text": [
            "WARNING:tensorflow:Early stopping conditioned on metric `val_loss` which is not available. Available metrics are: loss,accuracy\n"
          ]
        },
        {
          "metadata": {
            "tags": null
          },
          "name": "stdout",
          "output_type": "stream",
          "text": [
            "280/280 [==============================] - 126s 451ms/step - loss: 0.3230 - accuracy: 0.8886\n",
            "Epoch 9/50\n",
            "280/280 [==============================] - ETA: 0s - loss: 0.3104 - accuracy: 0.8936"
          ]
        },
        {
          "metadata": {
            "tags": null
          },
          "name": "stderr",
          "output_type": "stream",
          "text": [
            "WARNING:tensorflow:Early stopping conditioned on metric `val_loss` which is not available. Available metrics are: loss,accuracy\n"
          ]
        },
        {
          "metadata": {
            "tags": null
          },
          "name": "stdout",
          "output_type": "stream",
          "text": [
            "280/280 [==============================] - 130s 463ms/step - loss: 0.3104 - accuracy: 0.8936\n",
            "Epoch 10/50\n",
            "280/280 [==============================] - ETA: 0s - loss: 0.2566 - accuracy: 0.9129"
          ]
        },
        {
          "metadata": {
            "tags": null
          },
          "name": "stderr",
          "output_type": "stream",
          "text": [
            "WARNING:tensorflow:Early stopping conditioned on metric `val_loss` which is not available. Available metrics are: loss,accuracy\n"
          ]
        },
        {
          "metadata": {
            "tags": null
          },
          "name": "stdout",
          "output_type": "stream",
          "text": [
            "280/280 [==============================] - 120s 430ms/step - loss: 0.2566 - accuracy: 0.9129\n",
            "Epoch 11/50\n",
            "280/280 [==============================] - ETA: 0s - loss: 0.2308 - accuracy: 0.9171"
          ]
        },
        {
          "metadata": {
            "tags": null
          },
          "name": "stderr",
          "output_type": "stream",
          "text": [
            "WARNING:tensorflow:Early stopping conditioned on metric `val_loss` which is not available. Available metrics are: loss,accuracy\n"
          ]
        },
        {
          "output_type": "stream",
          "name": "stdout",
          "text": [
            "280/280 [==============================] - 122s 435ms/step - loss: 0.2308 - accuracy: 0.9171\n",
            "Epoch 12/50\n",
            "280/280 [==============================] - ETA: 0s - loss: 0.2767 - accuracy: 0.9136"
          ]
        },
        {
          "output_type": "stream",
          "name": "stderr",
          "text": [
            "WARNING:tensorflow:Early stopping conditioned on metric `val_loss` which is not available. Available metrics are: loss,accuracy\n"
          ]
        },
        {
          "output_type": "stream",
          "name": "stdout",
          "text": [
            "\b\b\b\b\b\b\b\b\b\b\b\b\b\b\b\b\b\b\b\b\b\b\b\b\b\b\b\b\b\b\b\b\b\b\b\b\b\b\b\b\b\b\b\b\b\b\b\b\b\b\b\b\b\b\b\b\b\b\b\b\b\b\b\b\b\b\b\b\b\b\b\b\b\b\b\b\b\b\b\b\b\b\b\b\r280/280 [==============================] - 123s 441ms/step - loss: 0.2767 - accuracy: 0.9136\n",
            "Epoch 13/50\n",
            "280/280 [==============================] - ETA: 0s - loss: 0.1526 - accuracy: 0.9550"
          ]
        },
        {
          "output_type": "stream",
          "name": "stderr",
          "text": [
            "WARNING:tensorflow:Early stopping conditioned on metric `val_loss` which is not available. Available metrics are: loss,accuracy\n"
          ]
        },
        {
          "output_type": "stream",
          "name": "stdout",
          "text": [
            "\b\b\b\b\b\b\b\b\b\b\b\b\b\b\b\b\b\b\b\b\b\b\b\b\b\b\b\b\b\b\b\b\b\b\b\b\b\b\b\b\b\b\b\b\b\b\b\b\b\b\b\b\b\b\b\b\b\b\b\b\b\b\b\b\b\b\b\b\b\b\b\b\b\b\b\b\b\b\b\b\b\b\b\b\r280/280 [==============================] - 128s 457ms/step - loss: 0.1526 - accuracy: 0.9550\n",
            "Epoch 14/50\n",
            "280/280 [==============================] - ETA: 0s - loss: 0.2455 - accuracy: 0.9229"
          ]
        },
        {
          "output_type": "stream",
          "name": "stderr",
          "text": [
            "WARNING:tensorflow:Early stopping conditioned on metric `val_loss` which is not available. Available metrics are: loss,accuracy\n"
          ]
        },
        {
          "output_type": "stream",
          "name": "stdout",
          "text": [
            "\b\b\b\b\b\b\b\b\b\b\b\b\b\b\b\b\b\b\b\b\b\b\b\b\b\b\b\b\b\b\b\b\b\b\b\b\b\b\b\b\b\b\b\b\b\b\b\b\b\b\b\b\b\b\b\b\b\b\b\b\b\b\b\b\b\b\b\b\b\b\b\b\b\b\b\b\b\b\b\b\b\b\b\b\r280/280 [==============================] - 132s 472ms/step - loss: 0.2455 - accuracy: 0.9229\n",
            "Epoch 15/50\n",
            "280/280 [==============================] - ETA: 0s - loss: 0.2095 - accuracy: 0.9343"
          ]
        },
        {
          "output_type": "stream",
          "name": "stderr",
          "text": [
            "WARNING:tensorflow:Early stopping conditioned on metric `val_loss` which is not available. Available metrics are: loss,accuracy\n"
          ]
        },
        {
          "output_type": "stream",
          "name": "stdout",
          "text": [
            "\b\b\b\b\b\b\b\b\b\b\b\b\b\b\b\b\b\b\b\b\b\b\b\b\b\b\b\b\b\b\b\b\b\b\b\b\b\b\b\b\b\b\b\b\b\b\b\b\b\b\b\b\b\b\b\b\b\b\b\b\b\b\b\b\b\b\b\b\b\b\b\b\b\b\b\b\b\b\b\b\b\b\b\b\r280/280 [==============================] - 127s 452ms/step - loss: 0.2095 - accuracy: 0.9343\n",
            "Epoch 16/50\n",
            "280/280 [==============================] - ETA: 0s - loss: 0.2099 - accuracy: 0.9286"
          ]
        },
        {
          "output_type": "stream",
          "name": "stderr",
          "text": [
            "WARNING:tensorflow:Early stopping conditioned on metric `val_loss` which is not available. Available metrics are: loss,accuracy\n"
          ]
        },
        {
          "output_type": "stream",
          "name": "stdout",
          "text": [
            "\b\b\b\b\b\b\b\b\b\b\b\b\b\b\b\b\b\b\b\b\b\b\b\b\b\b\b\b\b\b\b\b\b\b\b\b\b\b\b\b\b\b\b\b\b\b\b\b\b\b\b\b\b\b\b\b\b\b\b\b\b\b\b\b\b\b\b\b\b\b\b\b\b\b\b\b\b\b\b\b\b\b\b\b\r280/280 [==============================] - 128s 456ms/step - loss: 0.2099 - accuracy: 0.9286\n",
            "Epoch 17/50\n",
            "280/280 [==============================] - ETA: 0s - loss: 0.2038 - accuracy: 0.9357"
          ]
        },
        {
          "output_type": "stream",
          "name": "stderr",
          "text": [
            "WARNING:tensorflow:Early stopping conditioned on metric `val_loss` which is not available. Available metrics are: loss,accuracy\n"
          ]
        },
        {
          "output_type": "stream",
          "name": "stdout",
          "text": [
            "\b\b\b\b\b\b\b\b\b\b\b\b\b\b\b\b\b\b\b\b\b\b\b\b\b\b\b\b\b\b\b\b\b\b\b\b\b\b\b\b\b\b\b\b\b\b\b\b\b\b\b\b\b\b\b\b\b\b\b\b\b\b\b\b\b\b\b\b\b\b\b\b\b\b\b\b\b\b\b\b\b\b\b\b\r280/280 [==============================] - 123s 440ms/step - loss: 0.2038 - accuracy: 0.9357\n",
            "Epoch 18/50\n",
            "280/280 [==============================] - ETA: 0s - loss: 0.1540 - accuracy: 0.9493"
          ]
        },
        {
          "output_type": "stream",
          "name": "stderr",
          "text": [
            "WARNING:tensorflow:Early stopping conditioned on metric `val_loss` which is not available. Available metrics are: loss,accuracy\n"
          ]
        },
        {
          "output_type": "stream",
          "name": "stdout",
          "text": [
            "\b\b\b\b\b\b\b\b\b\b\b\b\b\b\b\b\b\b\b\b\b\b\b\b\b\b\b\b\b\b\b\b\b\b\b\b\b\b\b\b\b\b\b\b\b\b\b\b\b\b\b\b\b\b\b\b\b\b\b\b\b\b\b\b\b\b\b\b\b\b\b\b\b\b\b\b\b\b\b\b\b\b\b\b\r280/280 [==============================] - 133s 475ms/step - loss: 0.1540 - accuracy: 0.9493\n",
            "Epoch 19/50\n",
            "280/280 [==============================] - ETA: 0s - loss: 0.2161 - accuracy: 0.9293"
          ]
        },
        {
          "output_type": "stream",
          "name": "stderr",
          "text": [
            "WARNING:tensorflow:Early stopping conditioned on metric `val_loss` which is not available. Available metrics are: loss,accuracy\n"
          ]
        },
        {
          "output_type": "stream",
          "name": "stdout",
          "text": [
            "\b\b\b\b\b\b\b\b\b\b\b\b\b\b\b\b\b\b\b\b\b\b\b\b\b\b\b\b\b\b\b\b\b\b\b\b\b\b\b\b\b\b\b\b\b\b\b\b\b\b\b\b\b\b\b\b\b\b\b\b\b\b\b\b\b\b\b\b\b\b\b\b\b\b\b\b\b\b\b\b\b\b\b\b\r280/280 [==============================] - 126s 449ms/step - loss: 0.2161 - accuracy: 0.9293\n",
            "Epoch 20/50\n",
            "280/280 [==============================] - ETA: 0s - loss: 0.1542 - accuracy: 0.9450"
          ]
        },
        {
          "output_type": "stream",
          "name": "stderr",
          "text": [
            "WARNING:tensorflow:Early stopping conditioned on metric `val_loss` which is not available. Available metrics are: loss,accuracy\n"
          ]
        },
        {
          "output_type": "stream",
          "name": "stdout",
          "text": [
            "\b\b\b\b\b\b\b\b\b\b\b\b\b\b\b\b\b\b\b\b\b\b\b\b\b\b\b\b\b\b\b\b\b\b\b\b\b\b\b\b\b\b\b\b\b\b\b\b\b\b\b\b\b\b\b\b\b\b\b\b\b\b\b\b\b\b\b\b\b\b\b\b\b\b\b\b\b\b\b\b\b\b\b\b\r280/280 [==============================] - 124s 442ms/step - loss: 0.1542 - accuracy: 0.9450\n",
            "Epoch 21/50\n",
            "280/280 [==============================] - ETA: 0s - loss: 0.2595 - accuracy: 0.9093"
          ]
        },
        {
          "output_type": "stream",
          "name": "stderr",
          "text": [
            "WARNING:tensorflow:Early stopping conditioned on metric `val_loss` which is not available. Available metrics are: loss,accuracy\n"
          ]
        },
        {
          "output_type": "stream",
          "name": "stdout",
          "text": [
            "\b\b\b\b\b\b\b\b\b\b\b\b\b\b\b\b\b\b\b\b\b\b\b\b\b\b\b\b\b\b\b\b\b\b\b\b\b\b\b\b\b\b\b\b\b\b\b\b\b\b\b\b\b\b\b\b\b\b\b\b\b\b\b\b\b\b\b\b\b\b\b\b\b\b\b\b\b\b\b\b\b\b\b\b\r280/280 [==============================] - 124s 440ms/step - loss: 0.2595 - accuracy: 0.9093\n",
            "Epoch 22/50\n",
            "280/280 [==============================] - ETA: 0s - loss: 0.1719 - accuracy: 0.9371"
          ]
        },
        {
          "output_type": "stream",
          "name": "stderr",
          "text": [
            "WARNING:tensorflow:Early stopping conditioned on metric `val_loss` which is not available. Available metrics are: loss,accuracy\n"
          ]
        },
        {
          "output_type": "stream",
          "name": "stdout",
          "text": [
            "\b\b\b\b\b\b\b\b\b\b\b\b\b\b\b\b\b\b\b\b\b\b\b\b\b\b\b\b\b\b\b\b\b\b\b\b\b\b\b\b\b\b\b\b\b\b\b\b\b\b\b\b\b\b\b\b\b\b\b\b\b\b\b\b\b\b\b\b\b\b\b\b\b\b\b\b\b\b\b\b\b\b\b\b\r280/280 [==============================] - 125s 447ms/step - loss: 0.1719 - accuracy: 0.9371\n",
            "Epoch 23/50\n",
            "280/280 [==============================] - ETA: 0s - loss: 0.1039 - accuracy: 0.9593"
          ]
        },
        {
          "output_type": "stream",
          "name": "stderr",
          "text": [
            "WARNING:tensorflow:Early stopping conditioned on metric `val_loss` which is not available. Available metrics are: loss,accuracy\n"
          ]
        },
        {
          "output_type": "stream",
          "name": "stdout",
          "text": [
            "\b\b\b\b\b\b\b\b\b\b\b\b\b\b\b\b\b\b\b\b\b\b\b\b\b\b\b\b\b\b\b\b\b\b\b\b\b\b\b\b\b\b\b\b\b\b\b\b\b\b\b\b\b\b\b\b\b\b\b\b\b\b\b\b\b\b\b\b\b\b\b\b\b\b\b\b\b\b\b\b\b\b\b\b\r280/280 [==============================] - 132s 471ms/step - loss: 0.1039 - accuracy: 0.9593\n",
            "Epoch 24/50\n",
            "280/280 [==============================] - ETA: 0s - loss: 0.1393 - accuracy: 0.9500"
          ]
        },
        {
          "output_type": "stream",
          "name": "stderr",
          "text": [
            "WARNING:tensorflow:Early stopping conditioned on metric `val_loss` which is not available. Available metrics are: loss,accuracy\n"
          ]
        },
        {
          "output_type": "stream",
          "name": "stdout",
          "text": [
            "\b\b\b\b\b\b\b\b\b\b\b\b\b\b\b\b\b\b\b\b\b\b\b\b\b\b\b\b\b\b\b\b\b\b\b\b\b\b\b\b\b\b\b\b\b\b\b\b\b\b\b\b\b\b\b\b\b\b\b\b\b\b\b\b\b\b\b\b\b\b\b\b\b\b\b\b\b\b\b\b\b\b\b\b\r280/280 [==============================] - 121s 431ms/step - loss: 0.1393 - accuracy: 0.9500\n",
            "Epoch 25/50\n",
            "280/280 [==============================] - ETA: 0s - loss: 0.1661 - accuracy: 0.9443"
          ]
        },
        {
          "output_type": "stream",
          "name": "stderr",
          "text": [
            "WARNING:tensorflow:Early stopping conditioned on metric `val_loss` which is not available. Available metrics are: loss,accuracy\n"
          ]
        },
        {
          "output_type": "stream",
          "name": "stdout",
          "text": [
            "\b\b\b\b\b\b\b\b\b\b\b\b\b\b\b\b\b\b\b\b\b\b\b\b\b\b\b\b\b\b\b\b\b\b\b\b\b\b\b\b\b\b\b\b\b\b\b\b\b\b\b\b\b\b\b\b\b\b\b\b\b\b\b\b\b\b\b\b\b\b\b\b\b\b\b\b\b\b\b\b\b\b\b\b\r280/280 [==============================] - 123s 439ms/step - loss: 0.1661 - accuracy: 0.9443\n",
            "Epoch 26/50\n",
            "280/280 [==============================] - ETA: 0s - loss: 0.1331 - accuracy: 0.9600"
          ]
        },
        {
          "output_type": "stream",
          "name": "stderr",
          "text": [
            "WARNING:tensorflow:Early stopping conditioned on metric `val_loss` which is not available. Available metrics are: loss,accuracy\n"
          ]
        },
        {
          "output_type": "stream",
          "name": "stdout",
          "text": [
            "\b\b\b\b\b\b\b\b\b\b\b\b\b\b\b\b\b\b\b\b\b\b\b\b\b\b\b\b\b\b\b\b\b\b\b\b\b\b\b\b\b\b\b\b\b\b\b\b\b\b\b\b\b\b\b\b\b\b\b\b\b\b\b\b\b\b\b\b\b\b\b\b\b\b\b\b\b\b\b\b\b\b\b\b\r280/280 [==============================] - 130s 462ms/step - loss: 0.1331 - accuracy: 0.9600\n",
            "Epoch 27/50\n",
            "280/280 [==============================] - ETA: 0s - loss: 0.2095 - accuracy: 0.9286"
          ]
        },
        {
          "output_type": "stream",
          "name": "stderr",
          "text": [
            "WARNING:tensorflow:Early stopping conditioned on metric `val_loss` which is not available. Available metrics are: loss,accuracy\n"
          ]
        },
        {
          "output_type": "stream",
          "name": "stdout",
          "text": [
            "\b\b\b\b\b\b\b\b\b\b\b\b\b\b\b\b\b\b\b\b\b\b\b\b\b\b\b\b\b\b\b\b\b\b\b\b\b\b\b\b\b\b\b\b\b\b\b\b\b\b\b\b\b\b\b\b\b\b\b\b\b\b\b\b\b\b\b\b\b\b\b\b\b\b\b\b\b\b\b\b\b\b\b\b\r280/280 [==============================] - 134s 479ms/step - loss: 0.2095 - accuracy: 0.9286\n",
            "Epoch 28/50\n",
            "280/280 [==============================] - ETA: 0s - loss: 0.1472 - accuracy: 0.9521"
          ]
        },
        {
          "output_type": "stream",
          "name": "stderr",
          "text": [
            "WARNING:tensorflow:Early stopping conditioned on metric `val_loss` which is not available. Available metrics are: loss,accuracy\n"
          ]
        },
        {
          "output_type": "stream",
          "name": "stdout",
          "text": [
            "\b\b\b\b\b\b\b\b\b\b\b\b\b\b\b\b\b\b\b\b\b\b\b\b\b\b\b\b\b\b\b\b\b\b\b\b\b\b\b\b\b\b\b\b\b\b\b\b\b\b\b\b\b\b\b\b\b\b\b\b\b\b\b\b\b\b\b\b\b\b\b\b\b\b\b\b\b\b\b\b\b\b\b\b\r280/280 [==============================] - 123s 438ms/step - loss: 0.1472 - accuracy: 0.9521\n",
            "Epoch 29/50\n",
            "280/280 [==============================] - ETA: 0s - loss: 0.1540 - accuracy: 0.9486"
          ]
        },
        {
          "output_type": "stream",
          "name": "stderr",
          "text": [
            "WARNING:tensorflow:Early stopping conditioned on metric `val_loss` which is not available. Available metrics are: loss,accuracy\n"
          ]
        },
        {
          "output_type": "stream",
          "name": "stdout",
          "text": [
            "\b\b\b\b\b\b\b\b\b\b\b\b\b\b\b\b\b\b\b\b\b\b\b\b\b\b\b\b\b\b\b\b\b\b\b\b\b\b\b\b\b\b\b\b\b\b\b\b\b\b\b\b\b\b\b\b\b\b\b\b\b\b\b\b\b\b\b\b\b\b\b\b\b\b\b\b\b\b\b\b\b\b\b\b\r280/280 [==============================] - 123s 437ms/step - loss: 0.1540 - accuracy: 0.9486\n",
            "Epoch 30/50\n",
            "280/280 [==============================] - ETA: 0s - loss: 0.0865 - accuracy: 0.9657"
          ]
        },
        {
          "output_type": "stream",
          "name": "stderr",
          "text": [
            "WARNING:tensorflow:Early stopping conditioned on metric `val_loss` which is not available. Available metrics are: loss,accuracy\n"
          ]
        },
        {
          "output_type": "stream",
          "name": "stdout",
          "text": [
            "\b\b\b\b\b\b\b\b\b\b\b\b\b\b\b\b\b\b\b\b\b\b\b\b\b\b\b\b\b\b\b\b\b\b\b\b\b\b\b\b\b\b\b\b\b\b\b\b\b\b\b\b\b\b\b\b\b\b\b\b\b\b\b\b\b\b\b\b\b\b\b\b\b\b\b\b\b\b\b\b\b\b\b\b\r280/280 [==============================] - 124s 441ms/step - loss: 0.0865 - accuracy: 0.9657\n",
            "Epoch 31/50\n",
            "280/280 [==============================] - ETA: 0s - loss: 0.2107 - accuracy: 0.9457"
          ]
        },
        {
          "output_type": "stream",
          "name": "stderr",
          "text": [
            "WARNING:tensorflow:Early stopping conditioned on metric `val_loss` which is not available. Available metrics are: loss,accuracy\n"
          ]
        },
        {
          "output_type": "stream",
          "name": "stdout",
          "text": [
            "\b\b\b\b\b\b\b\b\b\b\b\b\b\b\b\b\b\b\b\b\b\b\b\b\b\b\b\b\b\b\b\b\b\b\b\b\b\b\b\b\b\b\b\b\b\b\b\b\b\b\b\b\b\b\b\b\b\b\b\b\b\b\b\b\b\b\b\b\b\b\b\b\b\b\b\b\b\b\b\b\b\b\b\b\r280/280 [==============================] - 126s 451ms/step - loss: 0.2107 - accuracy: 0.9457\n",
            "Epoch 32/50\n",
            "280/280 [==============================] - ETA: 0s - loss: 0.1390 - accuracy: 0.9521"
          ]
        },
        {
          "output_type": "stream",
          "name": "stderr",
          "text": [
            "WARNING:tensorflow:Early stopping conditioned on metric `val_loss` which is not available. Available metrics are: loss,accuracy\n"
          ]
        },
        {
          "output_type": "stream",
          "name": "stdout",
          "text": [
            "\b\b\b\b\b\b\b\b\b\b\b\b\b\b\b\b\b\b\b\b\b\b\b\b\b\b\b\b\b\b\b\b\b\b\b\b\b\b\b\b\b\b\b\b\b\b\b\b\b\b\b\b\b\b\b\b\b\b\b\b\b\b\b\b\b\b\b\b\b\b\b\b\b\b\b\b\b\b\b\b\b\b\b\b\r280/280 [==============================] - 130s 464ms/step - loss: 0.1390 - accuracy: 0.9521\n",
            "Epoch 33/50\n",
            "280/280 [==============================] - ETA: 0s - loss: 0.1262 - accuracy: 0.9593"
          ]
        },
        {
          "output_type": "stream",
          "name": "stderr",
          "text": [
            "WARNING:tensorflow:Early stopping conditioned on metric `val_loss` which is not available. Available metrics are: loss,accuracy\n"
          ]
        },
        {
          "output_type": "stream",
          "name": "stdout",
          "text": [
            "\b\b\b\b\b\b\b\b\b\b\b\b\b\b\b\b\b\b\b\b\b\b\b\b\b\b\b\b\b\b\b\b\b\b\b\b\b\b\b\b\b\b\b\b\b\b\b\b\b\b\b\b\b\b\b\b\b\b\b\b\b\b\b\b\b\b\b\b\b\b\b\b\b\b\b\b\b\b\b\b\b\b\b\b\r280/280 [==============================] - 125s 447ms/step - loss: 0.1262 - accuracy: 0.9593\n",
            "Epoch 34/50\n",
            "280/280 [==============================] - ETA: 0s - loss: 0.1032 - accuracy: 0.9707"
          ]
        },
        {
          "output_type": "stream",
          "name": "stderr",
          "text": [
            "WARNING:tensorflow:Early stopping conditioned on metric `val_loss` which is not available. Available metrics are: loss,accuracy\n"
          ]
        },
        {
          "output_type": "stream",
          "name": "stdout",
          "text": [
            "\b\b\b\b\b\b\b\b\b\b\b\b\b\b\b\b\b\b\b\b\b\b\b\b\b\b\b\b\b\b\b\b\b\b\b\b\b\b\b\b\b\b\b\b\b\b\b\b\b\b\b\b\b\b\b\b\b\b\b\b\b\b\b\b\b\b\b\b\b\b\b\b\b\b\b\b\b\b\b\b\b\b\b\b\r280/280 [==============================] - 121s 432ms/step - loss: 0.1032 - accuracy: 0.9707\n",
            "Epoch 35/50\n",
            "280/280 [==============================] - ETA: 0s - loss: 0.0541 - accuracy: 0.9843"
          ]
        },
        {
          "output_type": "stream",
          "name": "stderr",
          "text": [
            "WARNING:tensorflow:Early stopping conditioned on metric `val_loss` which is not available. Available metrics are: loss,accuracy\n"
          ]
        },
        {
          "output_type": "stream",
          "name": "stdout",
          "text": [
            "\b\b\b\b\b\b\b\b\b\b\b\b\b\b\b\b\b\b\b\b\b\b\b\b\b\b\b\b\b\b\b\b\b\b\b\b\b\b\b\b\b\b\b\b\b\b\b\b\b\b\b\b\b\b\b\b\b\b\b\b\b\b\b\b\b\b\b\b\b\b\b\b\b\b\b\b\b\b\b\b\b\b\b\b\r280/280 [==============================] - 121s 433ms/step - loss: 0.0541 - accuracy: 0.9843\n",
            "Epoch 36/50\n",
            "280/280 [==============================] - ETA: 0s - loss: 0.1080 - accuracy: 0.9650"
          ]
        },
        {
          "output_type": "stream",
          "name": "stderr",
          "text": [
            "WARNING:tensorflow:Early stopping conditioned on metric `val_loss` which is not available. Available metrics are: loss,accuracy\n"
          ]
        },
        {
          "output_type": "stream",
          "name": "stdout",
          "text": [
            "\b\b\b\b\b\b\b\b\b\b\b\b\b\b\b\b\b\b\b\b\b\b\b\b\b\b\b\b\b\b\b\b\b\b\b\b\b\b\b\b\b\b\b\b\b\b\b\b\b\b\b\b\b\b\b\b\b\b\b\b\b\b\b\b\b\b\b\b\b\b\b\b\b\b\b\b\b\b\b\b\b\b\b\b\r280/280 [==============================] - 126s 449ms/step - loss: 0.1080 - accuracy: 0.9650\n",
            "Epoch 37/50\n",
            "280/280 [==============================] - ETA: 0s - loss: 0.1552 - accuracy: 0.9529"
          ]
        },
        {
          "output_type": "stream",
          "name": "stderr",
          "text": [
            "WARNING:tensorflow:Early stopping conditioned on metric `val_loss` which is not available. Available metrics are: loss,accuracy\n"
          ]
        },
        {
          "output_type": "stream",
          "name": "stdout",
          "text": [
            "\b\b\b\b\b\b\b\b\b\b\b\b\b\b\b\b\b\b\b\b\b\b\b\b\b\b\b\b\b\b\b\b\b\b\b\b\b\b\b\b\b\b\b\b\b\b\b\b\b\b\b\b\b\b\b\b\b\b\b\b\b\b\b\b\b\b\b\b\b\b\b\b\b\b\b\b\b\b\b\b\b\b\b\b\r280/280 [==============================] - 124s 442ms/step - loss: 0.1552 - accuracy: 0.9529\n",
            "Epoch 38/50\n",
            "280/280 [==============================] - ETA: 0s - loss: 0.2095 - accuracy: 0.9400"
          ]
        },
        {
          "output_type": "stream",
          "name": "stderr",
          "text": [
            "WARNING:tensorflow:Early stopping conditioned on metric `val_loss` which is not available. Available metrics are: loss,accuracy\n"
          ]
        },
        {
          "output_type": "stream",
          "name": "stdout",
          "text": [
            "\b\b\b\b\b\b\b\b\b\b\b\b\b\b\b\b\b\b\b\b\b\b\b\b\b\b\b\b\b\b\b\b\b\b\b\b\b\b\b\b\b\b\b\b\b\b\b\b\b\b\b\b\b\b\b\b\b\b\b\b\b\b\b\b\b\b\b\b\b\b\b\b\b\b\b\b\b\b\b\b\b\b\b\b\r280/280 [==============================] - 124s 440ms/step - loss: 0.2095 - accuracy: 0.9400\n",
            "Epoch 39/50\n",
            "280/280 [==============================] - ETA: 0s - loss: 0.1341 - accuracy: 0.9550"
          ]
        },
        {
          "output_type": "stream",
          "name": "stderr",
          "text": [
            "WARNING:tensorflow:Early stopping conditioned on metric `val_loss` which is not available. Available metrics are: loss,accuracy\n"
          ]
        },
        {
          "output_type": "stream",
          "name": "stdout",
          "text": [
            "\b\b\b\b\b\b\b\b\b\b\b\b\b\b\b\b\b\b\b\b\b\b\b\b\b\b\b\b\b\b\b\b\b\b\b\b\b\b\b\b\b\b\b\b\b\b\b\b\b\b\b\b\b\b\b\b\b\b\b\b\b\b\b\b\b\b\b\b\b\b\b\b\b\b\b\b\b\b\b\b\b\b\b\b\r280/280 [==============================] - 126s 448ms/step - loss: 0.1341 - accuracy: 0.9550\n",
            "Epoch 40/50\n",
            "280/280 [==============================] - ETA: 0s - loss: 0.1098 - accuracy: 0.9693"
          ]
        },
        {
          "output_type": "stream",
          "name": "stderr",
          "text": [
            "WARNING:tensorflow:Early stopping conditioned on metric `val_loss` which is not available. Available metrics are: loss,accuracy\n"
          ]
        },
        {
          "output_type": "stream",
          "name": "stdout",
          "text": [
            "\b\b\b\b\b\b\b\b\b\b\b\b\b\b\b\b\b\b\b\b\b\b\b\b\b\b\b\b\b\b\b\b\b\b\b\b\b\b\b\b\b\b\b\b\b\b\b\b\b\b\b\b\b\b\b\b\b\b\b\b\b\b\b\b\b\b\b\b\b\b\b\b\b\b\b\b\b\b\b\b\b\b\b\b\r280/280 [==============================] - 120s 429ms/step - loss: 0.1098 - accuracy: 0.9693\n",
            "Epoch 41/50\n",
            "280/280 [==============================] - ETA: 0s - loss: 0.0712 - accuracy: 0.9786"
          ]
        },
        {
          "output_type": "stream",
          "name": "stderr",
          "text": [
            "WARNING:tensorflow:Early stopping conditioned on metric `val_loss` which is not available. Available metrics are: loss,accuracy\n"
          ]
        },
        {
          "output_type": "stream",
          "name": "stdout",
          "text": [
            "\b\b\b\b\b\b\b\b\b\b\b\b\b\b\b\b\b\b\b\b\b\b\b\b\b\b\b\b\b\b\b\b\b\b\b\b\b\b\b\b\b\b\b\b\b\b\b\b\b\b\b\b\b\b\b\b\b\b\b\b\b\b\b\b\b\b\b\b\b\b\b\b\b\b\b\b\b\b\b\b\b\b\b\b\r280/280 [==============================] - 125s 447ms/step - loss: 0.0712 - accuracy: 0.9786\n",
            "Epoch 42/50\n",
            "280/280 [==============================] - ETA: 0s - loss: 0.1324 - accuracy: 0.9557"
          ]
        },
        {
          "output_type": "stream",
          "name": "stderr",
          "text": [
            "WARNING:tensorflow:Early stopping conditioned on metric `val_loss` which is not available. Available metrics are: loss,accuracy\n"
          ]
        },
        {
          "output_type": "stream",
          "name": "stdout",
          "text": [
            "\b\b\b\b\b\b\b\b\b\b\b\b\b\b\b\b\b\b\b\b\b\b\b\b\b\b\b\b\b\b\b\b\b\b\b\b\b\b\b\b\b\b\b\b\b\b\b\b\b\b\b\b\b\b\b\b\b\b\b\b\b\b\b\b\b\b\b\b\b\b\b\b\b\b\b\b\b\b\b\b\b\b\b\b\r280/280 [==============================] - 124s 443ms/step - loss: 0.1324 - accuracy: 0.9557\n",
            "Epoch 43/50\n",
            "280/280 [==============================] - ETA: 0s - loss: 0.0945 - accuracy: 0.9714"
          ]
        },
        {
          "output_type": "stream",
          "name": "stderr",
          "text": [
            "WARNING:tensorflow:Early stopping conditioned on metric `val_loss` which is not available. Available metrics are: loss,accuracy\n"
          ]
        },
        {
          "output_type": "stream",
          "name": "stdout",
          "text": [
            "\b\b\b\b\b\b\b\b\b\b\b\b\b\b\b\b\b\b\b\b\b\b\b\b\b\b\b\b\b\b\b\b\b\b\b\b\b\b\b\b\b\b\b\b\b\b\b\b\b\b\b\b\b\b\b\b\b\b\b\b\b\b\b\b\b\b\b\b\b\b\b\b\b\b\b\b\b\b\b\b\b\b\b\b\r280/280 [==============================] - 122s 434ms/step - loss: 0.0945 - accuracy: 0.9714\n",
            "Epoch 44/50\n",
            "280/280 [==============================] - ETA: 0s - loss: 0.1035 - accuracy: 0.9721"
          ]
        },
        {
          "output_type": "stream",
          "name": "stderr",
          "text": [
            "WARNING:tensorflow:Early stopping conditioned on metric `val_loss` which is not available. Available metrics are: loss,accuracy\n"
          ]
        },
        {
          "output_type": "stream",
          "name": "stdout",
          "text": [
            "\b\b\b\b\b\b\b\b\b\b\b\b\b\b\b\b\b\b\b\b\b\b\b\b\b\b\b\b\b\b\b\b\b\b\b\b\b\b\b\b\b\b\b\b\b\b\b\b\b\b\b\b\b\b\b\b\b\b\b\b\b\b\b\b\b\b\b\b\b\b\b\b\b\b\b\b\b\b\b\b\b\b\b\b\r280/280 [==============================] - 123s 440ms/step - loss: 0.1035 - accuracy: 0.9721\n",
            "Epoch 45/50\n",
            "280/280 [==============================] - ETA: 0s - loss: 0.0571 - accuracy: 0.9843"
          ]
        },
        {
          "output_type": "stream",
          "name": "stderr",
          "text": [
            "WARNING:tensorflow:Early stopping conditioned on metric `val_loss` which is not available. Available metrics are: loss,accuracy\n"
          ]
        },
        {
          "output_type": "stream",
          "name": "stdout",
          "text": [
            "\b\b\b\b\b\b\b\b\b\b\b\b\b\b\b\b\b\b\b\b\b\b\b\b\b\b\b\b\b\b\b\b\b\b\b\b\b\b\b\b\b\b\b\b\b\b\b\b\b\b\b\b\b\b\b\b\b\b\b\b\b\b\b\b\b\b\b\b\b\b\b\b\b\b\b\b\b\b\b\b\b\b\b\b\r280/280 [==============================] - 123s 439ms/step - loss: 0.0571 - accuracy: 0.9843\n",
            "Epoch 46/50\n",
            "280/280 [==============================] - ETA: 0s - loss: 0.1327 - accuracy: 0.9671"
          ]
        },
        {
          "output_type": "stream",
          "name": "stderr",
          "text": [
            "WARNING:tensorflow:Early stopping conditioned on metric `val_loss` which is not available. Available metrics are: loss,accuracy\n"
          ]
        },
        {
          "output_type": "stream",
          "name": "stdout",
          "text": [
            "\b\b\b\b\b\b\b\b\b\b\b\b\b\b\b\b\b\b\b\b\b\b\b\b\b\b\b\b\b\b\b\b\b\b\b\b\b\b\b\b\b\b\b\b\b\b\b\b\b\b\b\b\b\b\b\b\b\b\b\b\b\b\b\b\b\b\b\b\b\b\b\b\b\b\b\b\b\b\b\b\b\b\b\b\r280/280 [==============================] - 122s 436ms/step - loss: 0.1327 - accuracy: 0.9671\n",
            "Epoch 47/50\n",
            "280/280 [==============================] - ETA: 0s - loss: 0.1980 - accuracy: 0.9379"
          ]
        },
        {
          "output_type": "stream",
          "name": "stderr",
          "text": [
            "WARNING:tensorflow:Early stopping conditioned on metric `val_loss` which is not available. Available metrics are: loss,accuracy\n"
          ]
        },
        {
          "output_type": "stream",
          "name": "stdout",
          "text": [
            "\b\b\b\b\b\b\b\b\b\b\b\b\b\b\b\b\b\b\b\b\b\b\b\b\b\b\b\b\b\b\b\b\b\b\b\b\b\b\b\b\b\b\b\b\b\b\b\b\b\b\b\b\b\b\b\b\b\b\b\b\b\b\b\b\b\b\b\b\b\b\b\b\b\b\b\b\b\b\b\b\b\b\b\b\r280/280 [==============================] - 118s 422ms/step - loss: 0.1980 - accuracy: 0.9379\n",
            "Epoch 48/50\n",
            "280/280 [==============================] - ETA: 0s - loss: 0.1404 - accuracy: 0.9607"
          ]
        },
        {
          "output_type": "stream",
          "name": "stderr",
          "text": [
            "WARNING:tensorflow:Early stopping conditioned on metric `val_loss` which is not available. Available metrics are: loss,accuracy\n"
          ]
        },
        {
          "output_type": "stream",
          "name": "stdout",
          "text": [
            "\b\b\b\b\b\b\b\b\b\b\b\b\b\b\b\b\b\b\b\b\b\b\b\b\b\b\b\b\b\b\b\b\b\b\b\b\b\b\b\b\b\b\b\b\b\b\b\b\b\b\b\b\b\b\b\b\b\b\b\b\b\b\b\b\b\b\b\b\b\b\b\b\b\b\b\b\b\b\b\b\b\b\b\b\r280/280 [==============================] - 125s 446ms/step - loss: 0.1404 - accuracy: 0.9607\n",
            "Epoch 49/50\n",
            "280/280 [==============================] - ETA: 0s - loss: 0.0650 - accuracy: 0.9743"
          ]
        },
        {
          "output_type": "stream",
          "name": "stderr",
          "text": [
            "WARNING:tensorflow:Early stopping conditioned on metric `val_loss` which is not available. Available metrics are: loss,accuracy\n"
          ]
        },
        {
          "output_type": "stream",
          "name": "stdout",
          "text": [
            "\b\b\b\b\b\b\b\b\b\b\b\b\b\b\b\b\b\b\b\b\b\b\b\b\b\b\b\b\b\b\b\b\b\b\b\b\b\b\b\b\b\b\b\b\b\b\b\b\b\b\b\b\b\b\b\b\b\b\b\b\b\b\b\b\b\b\b\b\b\b\b\b\b\b\b\b\b\b\b\b\b\b\b\b\r280/280 [==============================] - 129s 459ms/step - loss: 0.0650 - accuracy: 0.9743\n",
            "Epoch 50/50\n",
            "280/280 [==============================] - ETA: 0s - loss: 0.1050 - accuracy: 0.9693"
          ]
        },
        {
          "output_type": "stream",
          "name": "stderr",
          "text": [
            "WARNING:tensorflow:Early stopping conditioned on metric `val_loss` which is not available. Available metrics are: loss,accuracy\n"
          ]
        },
        {
          "output_type": "stream",
          "name": "stdout",
          "text": [
            "\b\b\b\b\b\b\b\b\b\b\b\b\b\b\b\b\b\b\b\b\b\b\b\b\b\b\b\b\b\b\b\b\b\b\b\b\b\b\b\b\b\b\b\b\b\b\b\b\b\b\b\b\b\b\b\b\b\b\b\b\b\b\b\b\b\b\b\b\b\b\b\b\b\b\b\b\b\b\b\b\b\b\b\b\r280/280 [==============================] - 124s 443ms/step - loss: 0.1050 - accuracy: 0.9693\n"
          ]
        }
      ],
      "source": [
        "with tf.device('/gpu:0'):\n",
        "  # Cria o modelo\n",
        "  modelo = criar_modelo()\n",
        "\n",
        "  # Compila o modelo\n",
        "  modelo.compile(optimizer=Adam(lr=0.001), loss='categorical_crossentropy', metrics=['accuracy'])\n",
        "\n",
        "  # Verifica a arquitetura do modelo\n",
        "  modelo.summary()\n",
        "\n",
        "  # Early Stopping\n",
        "  early_stopping = EarlyStopping(monitor='val_loss', patience=5, restore_best_weights=True)\n",
        "\n",
        "  # Treinamento do modelo\n",
        "  historico = modelo.fit(sequencia, epochs=50, verbose=1, callbacks=[early_stopping])\n"
      ]
    },
    {
      "cell_type": "code",
      "execution_count": 6,
      "metadata": {
        "id": "jSdaEvl6dWJV"
      },
      "outputs": [],
      "source": [
        "import matplotlib.pyplot as plt\n",
        "\n",
        "def plotar_historico(historico):\n",
        "  # Plota a perda e a acurácia para os conjuntos de treinamento e validação\n",
        "  plt.figure(figsize=(12, 5))\n",
        "\n",
        "  # Gráfico de perda\n",
        "  plt.subplot(1, 2, 1)\n",
        "  plt.plot(historico.history['loss'], label='Perda no treinamento')\n",
        "  if 'val_loss' in historico.history:\n",
        "      plt.plot(historico.history['val_loss'], label='Perda na validação')\n",
        "  plt.title('Perda do Modelo')\n",
        "  plt.xlabel('Épocas')\n",
        "  plt.ylabel('Perda')\n",
        "  plt.legend()\n",
        "\n",
        "  # Gráfico de acurácia\n",
        "  plt.subplot(1, 2, 2)\n",
        "  plt.plot(historico.history['accuracy'], label='Acurácia no treinamento')\n",
        "  if 'val_accuracy' in historico.history:\n",
        "      plt.plot(historico.history['val_accuracy'], label='Acurácia na validação')\n",
        "  plt.title('Acurácia do Modelo')\n",
        "  plt.xlabel('Épocas')\n",
        "  plt.ylabel('Acurácia')\n",
        "  plt.legend()\n",
        "\n",
        "  plt.tight_layout()\n",
        "  plt.show()\n"
      ]
    },
    {
      "cell_type": "code",
      "execution_count": 7,
      "metadata": {
        "colab": {
          "base_uri": "https://localhost:8080/",
          "height": 507
        },
        "id": "MaEUz_fCdWxz",
        "outputId": "677e8b52-4ed4-4636-8e9f-37da8da89c69"
      },
      "outputs": [
        {
          "output_type": "display_data",
          "data": {
            "text/plain": [
              "<Figure size 1200x500 with 2 Axes>"
            ],
            "image/png": "[encoded data removed]"
          },
          "metadata": {}
        }
      ],
      "source": [
        "plotar_historico(historico)"
      ]
    },
    {
      "cell_type": "code",
      "source": [],
      "metadata": {
        "id": "BjpbBx63Fbdc"
      },
      "execution_count": null,
      "outputs": []
    }
  ],
  "metadata": {
    "accelerator": "GPU",
    "colab": {
      "gpuType": "T4",
      "provenance": [],
      "authorship_tag": "ABX9TyPmQIcUEVB/rkOFlhSe6D7F",
      "include_colab_link": true
    },
    "kernelspec": {
      "display_name": "Python 3",
      "name": "python3"
    },
    "language_info": {
      "name": "python"
    }
  },
  "nbformat": 4,
  "nbformat_minor": 0
}